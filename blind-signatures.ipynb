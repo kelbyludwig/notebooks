{
 "cells": [
  {
   "cell_type": "code",
   "execution_count": 98,
   "metadata": {
    "collapsed": false
   },
   "outputs": [],
   "source": [
    "p = next_prime(2^32)\n",
    "q = next_prime(2^33)\n",
    "N = p*q\n",
    "ZM = Zmod(N)\n",
    "\n",
    "class Authenticator(object):\n",
    "    \n",
    "    def __init__(self):\n",
    "        self.e = 65537\n",
    "        self.d = inverse_mod(self.e, lcm(p-1, q-1))\n",
    "    \n",
    "    def sign(self, message):\n",
    "        assert(message.modulus() == N)\n",
    "        return message^self.d\n",
    "    \n",
    "class Voter(object):\n",
    "    \n",
    "    def __init__(self):\n",
    "        self.r = None\n",
    "        \n",
    "    def blind_vote(self, signer, vote):\n",
    "        assert(vote.modulus() == N)\n",
    "        assert(self.r is None)\n",
    "        self.r = ZM.random_element()\n",
    "        return vote*(self.r^signer.e)\n",
    "    \n",
    "    def unblind_vote(self, signed_blinded_vote):\n",
    "        assert(self.r is not None)\n",
    "        assert(signed_blinded_vote.modulus() == N)\n",
    "        signed_vote = signed_blinded_vote*self.r^-1\n",
    "        self.r = None\n",
    "        return signed_vote\n",
    "\n",
    "class Verifier(object):\n",
    "    \n",
    "    def verify_vote(_, signer, vote, signature):\n",
    "        return vote == signature^signer.e"
   ]
  },
  {
   "cell_type": "code",
   "execution_count": 99,
   "metadata": {
    "collapsed": false
   },
   "outputs": [],
   "source": [
    "signer = Authenticator()\n",
    "jim = Voter()\n",
    "verifier = Verifier()\n",
    "\n",
    "# jim first blinds his vote\n",
    "jims_vote = ZM(7)\n",
    "jims_blind_vote = jim.blind_vote(signer, jims_vote)\n",
    "\n",
    "# then jim requests the signer signs jim's blind vote\n",
    "# in theory, the signer could authenticate that jim\n",
    "# is allowed to vote, but im keeping things simple\n",
    "blind_signature = signer.sign(jims_blind_vote)\n",
    "\n",
    "# jim then unblinds his signed and blinded vote\n",
    "jims_vote_signature = jim.unblind_vote(blind_signature)\n",
    "\n",
    "# finally some other party will verify that the signature \n",
    "# for the vote is valid under the signer's public key\n",
    "assert(verifier.verify_vote(signer, jims_vote, jims_vote_signature))"
   ]
  },
  {
   "cell_type": "markdown",
   "metadata": {},
   "source": [
    "# notes: poorly generated blinding values\n",
    "\n",
    "When a Voter blinds their vote, the blinding value `r` they generate must be relatively prime to `N`. If it is not, two things happen. \n",
    "\n",
    "1. The voter has factored `N`, which breaks the system.\n",
    "\n",
    "2. The blinded vote `v*r mod N` has no inverse because `gcd(r, N) != 1`. Inverting `r` is required for the correctness of the system since you need `r`'s inverse to unblind the signature."
   ]
  },
  {
   "cell_type": "markdown",
   "metadata": {},
   "source": [
    "# notes: \"authenticator\" vs. \"verifier\"\n",
    "\n",
    "In a non-blinded voting scheme (think: what you would do in real life), there are two major parts to the protocol. The first is authN of the individual wanting to vote (i.e. You are Jim and you have proven you are Jim). The second is Jim authN'ing that he is casting a specific vote. This often is done by the same entity, which is how votes are tied to individuals.\n",
    "\n",
    "In a blinded voting scheme, these two steps happen separately. In the code example, Jim could have proven he is Jim to the `Authenticator` during the call to `signer.sign`. Because the Authenticator is signing a blinded vote the `Authenticator` learns nothing about Jim's vote.\n",
    "\n",
    "The `Verifier` is a separate entity that learns Jim's vote, but doesn't learn that Jim is the voter. The `Verifier` can trust the vote was legitimate because the anonymous voter provides a signature that demonstrates it had authenticated with the `Authenticator`. "
   ]
  },
  {
   "cell_type": "code",
   "execution_count": 103,
   "metadata": {
    "collapsed": false
   },
   "outputs": [],
   "source": []
  }
 ],
 "metadata": {
  "kernelspec": {
   "display_name": "SageMath 8.1",
   "language": "",
   "name": "sagemath"
  },
  "language_info": {
   "codemirror_mode": {
    "name": "ipython",
    "version": 2
   },
   "file_extension": ".py",
   "mimetype": "text/x-python",
   "name": "python",
   "nbconvert_exporter": "python",
   "pygments_lexer": "ipython2",
   "version": "2.7.14"
  }
 },
 "nbformat": 4,
 "nbformat_minor": 2
}
