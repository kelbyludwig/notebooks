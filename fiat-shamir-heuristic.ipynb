{
 "cells": [
  {
   "cell_type": "markdown",
   "metadata": {
    "deletable": true,
    "editable": true
   },
   "source": [
    "# Fiat-Shamir Heuristic\n",
    "\n",
    "The Fiat-Shamir heuristic is commonly referenced method of turning interactive zero-knowledge proofs into signature schemes. I believe this concept was introduced in the paper \"[How To Prove Yourself: Practical Solutions to Identification and Signature Problems](https://dl.acm.org/citation.cfm?id=36676)\".\n",
    "\n",
    "The basic idea of the heuristic is that one of the interactive steps performed by the verifier, specifically the selection of a set of random bits, is replaced by a hash function.\n",
    "\n",
    "The \"How To Prove Yourself\" (HTPY) paper also describes a specific identification protocol. This notebook implements that identification protocol, as well as the transformation of the identification protocol to signature scheme using the described heuristic."
   ]
  },
  {
   "cell_type": "code",
   "execution_count": 3,
   "metadata": {
    "collapsed": false,
    "deletable": true,
    "editable": true
   },
   "outputs": [],
   "source": [
    "import hashlib\n",
    "\n",
    "# secret parameters only known to the Center\n",
    "p, q = next_prime(2^32), next_prime(2^33)\n",
    "\n",
    "# global parameters\n",
    "N = p*q\n",
    "ZN = Zmod(N)\n",
    "t, k = 4, 4\n",
    "\n",
    "def f(*args):\n",
    "    h = hashlib.md5()\n",
    "    for a in args:\n",
    "        h.update(str(a))\n",
    "    hd = h.hexdigest()\n",
    "    return ZN(int(hd, 16))\n",
    "\n",
    "class Center(object):\n",
    "    \n",
    "    def provision_prover(self, identity):\n",
    "        secret_root = ZN(randint(1, N-1))^-1\n",
    "        return InteractiveProver(identity, secret_root)\n",
    "\n",
    "class InteractiveProver(object):\n",
    "    \n",
    "    def __init__(self, identity, secret_root):\n",
    "        self.identity = identity\n",
    "        self.secret_root = secret_root\n",
    "        \n",
    "    def commit(self):\n",
    "        self.prover_random = ZN(randint(1, N-1))\n",
    "        return self.identity, self.secret_root^2, self.prover_random^2\n",
    "    \n",
    "    def respond(self, verifier_random):\n",
    "        y = self.secret_root^verifier_random\n",
    "        return self.prover_random*y\n",
    "            \n",
    "\n",
    "class InteractiveVerifier(object):\n",
    "    \n",
    "    def challenge(self, identity, public_square, prover_random):\n",
    "        self.prover_random = prover_random\n",
    "        self.verifier_random = randint(0,1)\n",
    "        self.public_square = public_square\n",
    "        return self.verifier_random\n",
    "        \n",
    "    def check(self, proof):\n",
    "        y = self.public_square^self.verifier_random\n",
    "        return proof^2 == self.prover_random*y\n",
    "        \n",
    "\n",
    "center = Center()\n",
    "verifier = InteractiveVerifier()\n",
    "me = center.provision_prover(\"@kelbyludwig\")\n",
    "\n",
    "for _ in range(256):\n",
    "    # begin identification protocol\n",
    "    (identity, public_square, prover_random) = me.commit()\n",
    "    verifier_random = verifier.challenge(identity, public_square, prover_random)\n",
    "\n",
    "    # generate my proof\n",
    "    proof = me.respond(verifier_random)\n",
    "\n",
    "    # present proof to verifier\n",
    "    assert(verifier.check(proof))"
   ]
  },
  {
   "cell_type": "code",
   "execution_count": 4,
   "metadata": {
    "collapsed": false,
    "deletable": true,
    "editable": true
   },
   "outputs": [],
   "source": [
    "class NewCenter(object):\n",
    "    \n",
    "    def provision_signer(self, identity):\n",
    "        secret_root = ZN(randint(1, N-1))\n",
    "        return Signer(identity, secret_root)\n",
    "\n",
    "class Signer(object):\n",
    "    \n",
    "    def __init__(self, identity, secret_root):\n",
    "        self.identity = identity\n",
    "        self.secret_root = secret_root\n",
    "        self.public_square = secret_root^-2\n",
    "    \n",
    "    def sign(self, message):\n",
    "        r = f(randint(1, N-1))\n",
    "        x = r^2\n",
    "        e = f(message, x).lift().bits()[0]\n",
    "        y = r*self.secret_root^e\n",
    "        return self.public_square, e, y\n",
    "        \n",
    "    \n",
    "class Verifier(object):\n",
    "    \n",
    "    def verify(self, message, public_square, e, y):\n",
    "        # assume the verifier knows the `public_square` is\n",
    "        # legitimately tied to the signer\n",
    "        z = y^2 * public_square^e\n",
    "        calculated_e = f(message, z).lift().bits()[0]\n",
    "        return calculated_e == e\n",
    "\n",
    "center = NewCenter()\n",
    "verifier = Verifier()\n",
    "\n",
    "for _ in range(256):\n",
    "    me = center.provision_signer(\"@kelbyludwig\")\n",
    "    message = \"foo\"\n",
    "    public_square, e, y = me.sign(message)\n",
    "    assert(verifier.verify(message, public_square, e, y))"
   ]
  },
  {
   "cell_type": "markdown",
   "metadata": {
    "deletable": true,
    "editable": true
   },
   "source": [
    "# Notes\n",
    "\n",
    "## The Selection of the Function `f`\n",
    "\n",
    "In the HTPY paper, the function `f` is described as a \"pseudo random function... which maps arbitrary strings to the range [0, N)\". However, the applications of the Fiat-Shamir heuristic that I have seen have used a hash function as `f`. It's my understanding that hash functions are *not* PRFs, so maybe the original definition of the heuristic has just changed over time.\n",
    "\n",
    "My selection of `f` in my code above is for simplicity (Or at least that is what I have told myself). I can pretty much gaurantee it's broken in some way.\n",
    "\n",
    "## Why does the interactive version in HTPY use the function `f` to generate public values on each protocol run?\n",
    "\n",
    "I do not do this in the code above, but in the original HTPY paper, the list of `vj` values is created by applying `f` to the user's identifier and a series of small indices. \n",
    "\n",
    "This seems superfluous, as the user's identifier and these indices are public information. I'm guessing that this is used to lower the size of data transmitted in the protocol, since the target application described in the paper is constrained smartcards.\n",
    "\n",
    "Also, since `f` is used during transformation to a signature scheme, there is no extra cost to keep `f` in the smartcard."
   ]
  },
  {
   "cell_type": "code",
   "execution_count": null,
   "metadata": {
    "collapsed": true,
    "deletable": true,
    "editable": true
   },
   "outputs": [],
   "source": []
  }
 ],
 "metadata": {
  "kernelspec": {
   "display_name": "SageMath 8.1",
   "language": "",
   "name": "sagemath"
  },
  "language_info": {
   "codemirror_mode": {
    "name": "ipython",
    "version": 2
   },
   "file_extension": ".py",
   "mimetype": "text/x-python",
   "name": "python",
   "nbconvert_exporter": "python",
   "pygments_lexer": "ipython2",
   "version": "2.7.14"
  }
 },
 "nbformat": 4,
 "nbformat_minor": 2
}
