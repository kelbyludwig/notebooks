{
 "cells": [
  {
   "cell_type": "code",
   "execution_count": 1,
   "metadata": {
    "collapsed": true
   },
   "outputs": [],
   "source": [
    "p256 = 115792089210356248762697446949407573530086143415290314195533631308867097853951 \n",
    "a256 = p256 - 3 \n",
    "b256 =  41058363725152142129326129780047268409114441015993725554835256314039467401291 \n",
    "\n",
    "# base point (x, y)  \n",
    "gx = 48439561293906451759052585252797914202762949526041747995844080717082404635286\n",
    "gy = 36134250956749795798585127919587881956611106672985015071877198253568414405109\n",
    "\n",
    "# curve order\n",
    "qq = 115792089210356248762697446949407573529996955224135760342422259061068512044369 \n",
    "\n",
    "FF = GF(p256) \n",
    "EC = EllipticCurve([FF(a256), FF(b256)]) \n",
    "EC.set_order(qq) \n",
    "\n",
    "# base point\n",
    "G = EC(FF(gx), FF(gy))"
   ]
  },
  {
   "cell_type": "code",
   "execution_count": null,
   "metadata": {
    "collapsed": true
   },
   "outputs": [],
   "source": []
  }
 ],
 "metadata": {
  "kernelspec": {
   "display_name": "SageMath 8.1",
   "language": "",
   "name": "sagemath"
  },
  "language_info": {
   "codemirror_mode": {
    "name": "ipython",
    "version": 2
   },
   "file_extension": ".py",
   "mimetype": "text/x-python",
   "name": "python",
   "nbconvert_exporter": "python",
   "pygments_lexer": "ipython2",
   "version": "2.7.14"
  }
 },
 "nbformat": 4,
 "nbformat_minor": 2
}
