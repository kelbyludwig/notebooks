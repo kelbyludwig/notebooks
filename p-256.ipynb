{
 "cells": [
  {
   "cell_type": "markdown",
   "metadata": {},
   "source": [
    "This notebook demonstrates how to create a NIST P-256 curve and base point. First, we define the parameters that make up the P-256 curve."
   ]
  },
  {
   "cell_type": "code",
   "execution_count": 24,
   "metadata": {
    "collapsed": true,
    "deletable": true,
    "editable": true
   },
   "outputs": [],
   "source": [
    "# finite field prime\n",
    "p256 = 115792089210356248762697446949407573530086143415290314195533631308867097853951 \n",
    "#    = 2^256 - 2^224 + 2^192 + 2^96 - 1\n",
    "\n",
    "# curve parameters: y^2=x^3+a256*x+b256\n",
    "a256 = p256 - 3 \n",
    "b256 = 41058363725152142129326129780047268409114441015993725554835256314039467401291 \n",
    "\n",
    "# base point (x, y)  \n",
    "gx = 48439561293906451759052585252797914202762949526041747995844080717082404635286\n",
    "gy = 36134250956749795798585127919587881956611106672985015071877198253568414405109\n",
    "\n",
    "# curve order\n",
    "qq = 115792089210356248762697446949407573529996955224135760342422259061068512044369 "
   ]
  },
  {
   "cell_type": "markdown",
   "metadata": {},
   "source": [
    "Then we can create a EllipticCurve sage object over a finite field."
   ]
  },
  {
   "cell_type": "code",
   "execution_count": 20,
   "metadata": {
    "collapsed": true
   },
   "outputs": [],
   "source": [
    "# create a finite field\n",
    "FF = GF(p256) \n",
    "# define a curve over that field with specified Weierstrass a and b parameters\n",
    "EC = EllipticCurve([FF(a256), FF(b256)]) \n",
    "# since we know P-256's order we can skip computing it and set it explicitly\n",
    "EC.set_order(qq) \n",
    "\n",
    "# base point\n",
    "G = EC(FF(gx), FF(gy))"
   ]
  },
  {
   "cell_type": "markdown",
   "metadata": {},
   "source": [
    "Finally, we can compare results to [public test vectors](http://point-at-infinity.org/ecc/nisttv) to make sure everything is working as intended.\n",
    "\n",
    "These test vectors are defined as three-tuples: (scalar `k`, x-coordinate of `k*G`, y-coordinate of `k*G`)"
   ]
  },
  {
   "cell_type": "code",
   "execution_count": 25,
   "metadata": {
    "collapsed": false,
    "deletable": true,
    "editable": true
   },
   "outputs": [
    {
     "name": "stdout",
     "output_type": "stream",
     "text": [
      "dope!\n"
     ]
    }
   ],
   "source": [
    "test_vectors = [\n",
    "    (1, \n",
    "     0x6B17D1F2E12C4247F8BCE6E563A440F277037D812DEB33A0F4A13945D898C296, \n",
    "     0x4FE342E2FE1A7F9B8EE7EB4A7C0F9E162BCE33576B315ECECBB6406837BF51F5),\n",
    "    (2,\n",
    "     0x7CF27B188D034F7E8A52380304B51AC3C08969E277F21B35A60B48FC47669978,\n",
    "     0x07775510DB8ED040293D9AC69F7430DBBA7DADE63CE982299E04B79D227873D1),\n",
    "    (3,\n",
    "     0x5ECBE4D1A6330A44C8F7EF951D4BF165E6C6B721EFADA985FB41661BC6E7FD6C,\n",
    "     0x8734640C4998FF7E374B06CE1A64A2ECD82AB036384FB83D9A79B127A27D5032),\n",
    "    (4,\n",
    "     0xE2534A3532D08FBBA02DDE659EE62BD0031FE2DB785596EF509302446B030852,\n",
    "     0xE0F1575A4C633CC719DFEE5FDA862D764EFC96C3F30EE0055C42C23F184ED8C6),\n",
    "    (5,\n",
    "     0x51590B7A515140D2D784C85608668FDFEF8C82FD1F5BE52421554A0DC3D033ED,\n",
    "     0xE0C17DA8904A727D8AE1BF36BF8A79260D012F00D4D80888D1D0BB44FDA16DA4)\n",
    "]\n",
    "\n",
    "for k, x, y in test_vectors:\n",
    "    P = k*G\n",
    "    Px, Py = P.xy()\n",
    "    assert Px == x\n",
    "    assert Py == y\n",
    "print(\"dope!\")"
   ]
  }
 ],
 "metadata": {
  "kernelspec": {
   "display_name": "SageMath 8.1",
   "language": "",
   "name": "sagemath"
  },
  "language_info": {
   "codemirror_mode": {
    "name": "ipython",
    "version": 2
   },
   "file_extension": ".py",
   "mimetype": "text/x-python",
   "name": "python",
   "nbconvert_exporter": "python",
   "pygments_lexer": "ipython2",
   "version": "2.7.14"
  }
 },
 "nbformat": 4,
 "nbformat_minor": 2
}
