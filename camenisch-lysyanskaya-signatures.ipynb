{
 "cells": [
  {
   "cell_type": "markdown",
   "metadata": {
    "deletable": true,
    "editable": true
   },
   "source": [
    "# Camenisch-Lysyanskaya Signatures Background\n",
    "\n",
    "This contains my notes on learning some of the background for Camenisch-Lysyanskaya signatures. The references I used are:\n",
    "\n",
    "* [Direct Anonymous Attestation Explained](https://pdfs.semanticscholar.org/4cc6/257c4b2d649a09b08c1789dcaf3aeb3c1fda.pdf)\n",
    "\n",
    "* [Modular Cryptographic Protocol Design](https://camenisch.org/jan/presentations/2018-09-11-Modular-Protocol-Design-ISC-Surrey.pdf)\n",
    "\n",
    "* [Zero Knowledge Proofs: An illustrated primer, Part 2](https://blog.cryptographyengineering.com/2017/01/21/zero-knowledge-proofs-an-illustrated-primer-part-2/)"
   ]
  },
  {
   "cell_type": "markdown",
   "metadata": {
    "deletable": true,
    "editable": true
   },
   "source": [
    "# Schnorr’s Identification Scheme\n",
    "\n",
    "CL Signatures require proofs of knowledge of some relationship between discrete logarithm. The first that is discussed is Schnorr's Identification scheme.\n",
    "\n",
    "Schnorr's Identification scheme is a proof of knowledge of some discrete logarithm of `y = g^x`. `x` is the secret known the prover, and `y` is known to both parties. This scheme allows the prover to demonstrate knowledge of `x` without leaking any information about `x`."
   ]
  },
  {
   "cell_type": "code",
   "execution_count": 3,
   "metadata": {
    "collapsed": false,
    "deletable": true,
    "editable": true
   },
   "outputs": [],
   "source": [
    "p = 2*251 + 1 # safe prime p\n",
    "Zp = Zmod(p)\n",
    "g = Zp.multiplicative_generator()\n",
    "q = g.multiplicative_order()\n",
    "Zq = Zmod(q)\n",
    "k = 10\n",
    "\n",
    "class SchnorrProver(object):\n",
    "    \n",
    "    def __init__(self):\n",
    "        self.secret_key = Zq.random_element()\n",
    "        self.public_key = g^self.secret_key\n",
    "    \n",
    "    def commit(self):\n",
    "        self.r = Zq.random_element()\n",
    "        return g^self.r\n",
    "    \n",
    "    def respond(self, challenge):\n",
    "        return self.r - challenge*self.secret_key\n",
    "\n",
    "class SchnorrVerifier(object):\n",
    "    \n",
    "    def __init__(self, prover_public_key):\n",
    "        self.prover_public_key = prover_public_key\n",
    "    \n",
    "    def challenge(self, commitment):\n",
    "        self.commitment = commitment\n",
    "        self.challenge_number = randint(1, 2^k)\n",
    "        return self.challenge_number\n",
    "    \n",
    "    def check(self, response):\n",
    "        check_value = g^response*self.prover_public_key^self.challenge_number\n",
    "        return self.commitment == check_value\n",
    "\n",
    "def run_protocol(iterations=32):\n",
    "    for _ in xrange(iterations):\n",
    "        prover = SchnorrProver()\n",
    "        verifier = SchnorrVerifier(prover.public_key)\n",
    "        t = prover.commit()\n",
    "        c = verifier.challenge(t)\n",
    "        s = prover.respond(c)\n",
    "        assert(verifier.check(s))\n",
    "    \n",
    "run_protocol()"
   ]
  },
  {
   "cell_type": "markdown",
   "metadata": {
    "deletable": true,
    "editable": true
   },
   "source": [
    "#  Proving Knowledge of a Representation\n",
    "\n",
    "An extension of the Schnoor Identification protocol involves proving knowledge of multiple discrete logs of many bases in a group. So, instead of proving knowledge of just `x` s.t. `y = g^x`, we'd prove knowledge of `x1, x2, ..., xl` s.t. `y = g1^x1 * g2^x2 * ... * gl^xl`.\n",
    "\n",
    "This generalization and the simpler identification protocol are almost identitical."
   ]
  },
  {
   "cell_type": "code",
   "execution_count": 2,
   "metadata": {
    "collapsed": false,
    "deletable": true,
    "editable": true
   },
   "outputs": [],
   "source": [
    "p = 2*251 + 1 # safe prime p\n",
    "Zp = Zmod(p)\n",
    "g = Zp.multiplicative_generator()\n",
    "q = g.multiplicative_order()\n",
    "Zq = Zmod(q)\n",
    "k = 10\n",
    "l = 8\n",
    "\n",
    "# construct `l` bases in the subgroup of order q\n",
    "gs = []\n",
    "while len(gs) != l:\n",
    "    x = randint(1, q)\n",
    "    if gcd(x, p-1) == 1:\n",
    "        gx = g^x\n",
    "        assert(gx.multiplicative_order() == q)\n",
    "        gs.append(g^x)\n",
    "        \n",
    "class GeneralSchnorrProver(object):\n",
    "    \n",
    "    def __init__(self):\n",
    "        self.secret_keys = [Zq.random_element() for _ in range(l)]\n",
    "        public_key = Zp(1)\n",
    "        for (g, s) in zip(gs, self.secret_keys):\n",
    "            public_key *= g^s\n",
    "        self.public_key = public_key\n",
    "    \n",
    "    def commit(self):\n",
    "        self.rs = [Zq.random_element() for _ in range(l)]\n",
    "        t = Zp(1)\n",
    "        for (g, r) in zip(gs, self.rs):\n",
    "            t *= g^r\n",
    "        return t\n",
    "    \n",
    "    def respond(self, challenge):\n",
    "        return [r - challenge*s \n",
    "                for (r, s) in zip(self.rs, self.secret_keys)]\n",
    "\n",
    "class GeneralSchnorrVerifier(object):\n",
    "    \n",
    "    def __init__(self, prover_public_key):\n",
    "        self.prover_public_key = prover_public_key\n",
    "    \n",
    "    def challenge(self, commitment):\n",
    "        self.commitment = commitment\n",
    "        self.challenge_number = randint(1, 2^k)\n",
    "        return self.challenge_number\n",
    "    \n",
    "    def check(self, response):\n",
    "        check_value = self.prover_public_key^self.challenge_number\n",
    "        for (g, r) in zip(gs, response):\n",
    "            check_value *= g^r\n",
    "        return self.commitment == check_value\n",
    "\n",
    "def run_protocol(iterations=32):\n",
    "    for _ in xrange(iterations):\n",
    "        prover = GeneralSchnorrProver()\n",
    "        verifier = GeneralSchnorrVerifier(prover.public_key)\n",
    "        t = prover.commit()\n",
    "        c = verifier.challenge(t)\n",
    "        s = prover.respond(c)\n",
    "        assert(verifier.check(s))\n",
    "\n",
    "run_protocol()"
   ]
  },
  {
   "cell_type": "markdown",
   "metadata": {
    "deletable": true,
    "editable": true
   },
   "source": [
    "# Combining Different Proof Protocols\n",
    "\n",
    "A further generalization of identification protocols involves running multiple proof protocols in parrallel. Imagine you were proving knowledge of two secrets `s1` and `s2` s.t. `x = g^s1` and `y = h^s2` where `g` and `h` are both members of the same group. To run these protocols in parallel, you can do what the paper describes:\n",
    "\n",
    "\n",
    "> First, the prover computes and sends to the verifier the commitment messages of both protocols at the same time. Next, the verifier chooses and sends back a single challenge message, i.e., the verifier chooses the same challenge message for both protocols. Finally, the verifier will accept the overall protocol only if the verification equations of both (sub-)protocols hold.\n",
    "\n",
    "\n",
    "In other words, you can use a single _verifier_ challenge across protocols in parallel and things don't seem to fall apart (IDK how general this claim is)."
   ]
  },
  {
   "cell_type": "markdown",
   "metadata": {
    "deletable": true,
    "editable": true
   },
   "source": [
    "# Aside: \"standard rewinding techniques\"\n",
    "\n",
    "In \"Direct Anonymous Attestation Explained\" the author mentions a proof technique referred to as \"standard rewinding techniques\":\n",
    "\n",
    "> Let us explain why the verifier should be convinced that $log_{h}(z)$ equals the first element in the representation of $y$ w.r.t. $g$ and $h$. Using standard rewinding techniques, one can obtain from a successful prover commitment and response messages for different challenge messages but the same commitment messages...\n",
    "\n",
    "This technique is demonstrated in \"Zero Knowledge Proofs: An illustrated primer, Part 2\" as a method for proving the soundness properties of a zero-knowledge proof system.\n",
    "\n",
    "Recall that a ZKP is considered sound if \"The Prover can only convince the Verifier if the statement is true\". Or put another way: \"If [the Prover] successfully convinces [the Verifier], then [the Prover] must know the [secrets]\".\n",
    "\n",
    "The technique used for formally proving soundness is to prove that there exists an algorithm for the verifier to extract the prover's secret if the prover demonstrates their proof. The blog post calls this algorithm the \"Extractor\". This algorithm under \"normal\" circumstances shouldn't be possible (otherwise the protocol would just be trivially broken!). However, the proof used in this blog post relies on the \"Extractor\" being able to stop a ZKP protocol run mid-protocol and \"rewind\" the prover's state. The extractor defined in the \"Illustrated Primer, Part 2\" blog post for Schnorr's Identification scheme is very similar to the proofs used in \"Direct Anonymous Attestation Explained\"!"
   ]
  },
  {
   "cell_type": "markdown",
   "metadata": {
    "deletable": true,
    "editable": true
   },
   "source": [
    "# Proving Equality of Discrete Logarithms\n",
    "\n",
    "Suppose you want to prove that you have knowledge of two secrets $a$ and $b$ such that the verifier has the public values $y = g^a * h^b$ and $z = h^a$. This looks similar to what was discussed in \"Combining Different Proof Protocols\" except that both $y$ and $z$ both contain a shared $a$ secret. Ideally, the protocol should only work if the $a$ value used in $y$ and $z$ are equal.\n",
    "\n",
    "In order to accomplish this, some of the random values selected by the prover and the verifier need to be shared across certain messages. This can be accomplished in the following stages:\n",
    "\n",
    "#### Setup:\n",
    "\n",
    "* Prover knows secrets $a$ and $b$.\n",
    "\n",
    "* Both Prover and Verifier know $y$, $z$, $g$, $h$, and $q$ ($g$ and $h$ are generators of a group with order $q$).\n",
    "\n",
    "#### Prover -> Verifier: Commitment\n",
    "\n",
    "* Generates secret random values $r_1$, $r_2$.\n",
    "\n",
    "* Sends $t_1 = g^r_1 * h^r_2$ and $t_2 = h^r_1$ to the Verifier.\n",
    "\n",
    "#### Verifier -> Prover: Challenge\n",
    "\n",
    "* Upon recieving $t_1$ and $t_2$ the Verifiers sends a single $k$-bit binary string challenge message $c$ to the verifier.\n",
    "\n",
    "#### Prover -> Verifier: Proof\n",
    "\n",
    "* The prover responds to the verifier with $s_1$ and $s_2$ values as proofs. These values are computed as: $s_1 = r_1 + c * a \\mod q$ and $s_2 = r_2 + c * b \\mod q$.\n",
    "\n",
    "#### Verifier : Check Proof\n",
    "\n",
    "* To determine if the prover has provided a valid proof of knowledge, the verifier confirms two equalities: $t_1 = y^c * g^{s_1} * h^{s_2}$ and $t_2 = z^c * h^{s_1}$.\n",
    "\n",
    "To prove that the $a$ value in $y$ and $z$ are the same, one can use the \"rewinding\" technique as a \"Extractor\" (read: \"Time-Traveling Verifier\") to gather $t_1$ and $t_2$ from two runs with different challenge values $c_1$ and $c_2$. This will lead to four different proof values: \n",
    "\n",
    "* $s_1 = r_1 + c_1 * a$\n",
    "* $s_2 = r_2 + c_1 * b$\n",
    "* $s_1' = r_1 + c_2 * a$\n",
    "* $s_2' = r_2 + c_2 * b$\n",
    "\n",
    "Using a bit of algebra (outlined in the paper), one can show that with these values that values of $a$ w.r.t to $g$ and $h$ are equal (mod $q$)."
   ]
  },
  {
   "cell_type": "markdown",
   "metadata": {
    "deletable": true,
    "editable": true
   },
   "source": [
    "# Aside: Recapping What We Know\n",
    "\n",
    "Up until this point, we know we know we can combine multiple discrete-log zero-knowlege proofs (e.g. \"I can prove I know $x$ with shared knowledge of $y = g^x$!\") into a single protocol run with fairly complex relationships. This includes:\n",
    "\n",
    "* Proving knowledge of multiple secret values $x_1$ through $x_n$ with multiple bases $g_1$ through $g_n$ with a single shared public value $y = g_1^{x_1} * ... * g_n^{x_n}$. This is done with a single challenge message from the verifier which is then used to compute $n$ proofs (See \"Proving Knowledge of a Representation\")\n",
    "\n",
    "* We can generalize the above to multiple shared public values. That is, we could have a value $y$ that is defined as above but we could also prove knowledge of secrets $y_1$ through $y_o$ with bases $h_1$ through $h_o$ with a single value $z = h_1^{y_1} * ... * h_o^{y_o}$. This is done, again, with a single challenge message from the verifier and $n + o$ proofs. (See \"Combining Different Proof Protocols\").\n",
    "\n",
    "* We can take this even further by also proving that secrets are equal across different relationships. (See \"Proving Equality of Discrete Logarithms\")\n",
    "\n",
    "* Additionally, you can do proofs of knowledge for secrets that depend on other public values. For example, using $y$ from above, you could do a proof of knowledge for some secret values $s1$ and $s2$ with public values $y = g^{s_1}$ and $z = y^{s_2}$. (I didn't explain this throughly in my notes here, I *think* it's a  extension of the \"Proving Equality of Discrete Logarithms\")"
   ]
  },
  {
   "cell_type": "markdown",
   "metadata": {
    "deletable": true,
    "editable": true
   },
   "source": [
    "# The Schnorr Protocol Modulo a Composite\n",
    "\n",
    "When working with a group of prime order $q$ (as everything up until this point has done), when creating proof values the prover reduces certain values (like the $s_1$ and $s_2$ values above) mod $q$. This is fine because the order is known.\n",
    "\n",
    "When working with subgroups mod $N$ where $N = p*q$ s.t. $p$ and $q$ are secret primes, knowing the order of a subgroup implies you know the factorization of $N$."
   ]
  }
 ],
 "metadata": {
  "kernelspec": {
   "display_name": "SageMath 8.1",
   "language": "",
   "name": "sagemath"
  },
  "language_info": {
   "codemirror_mode": {
    "name": "ipython",
    "version": 2
   },
   "file_extension": ".py",
   "mimetype": "text/x-python",
   "name": "python",
   "nbconvert_exporter": "python",
   "pygments_lexer": "ipython2",
   "version": "2.7.14"
  }
 },
 "nbformat": 4,
 "nbformat_minor": 2
}
