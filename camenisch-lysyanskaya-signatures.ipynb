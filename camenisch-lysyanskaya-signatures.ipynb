{
 "cells": [
  {
   "cell_type": "markdown",
   "metadata": {
    "deletable": true,
    "editable": true
   },
   "source": [
    "# Camenisch-Lysyanskaya Signatures\n",
    "\n",
    "This contains my notes on learning Camenisch-Lysyanskaya signatures from scratch (I knew very little about ZKPs). The references I used are:\n",
    "\n",
    "* [Direct Anonymous Attestation Explained](https://pdfs.semanticscholar.org/4cc6/257c4b2d649a09b08c1789dcaf3aeb3c1fda.pdf)\n",
    "\n",
    "* [Modular Cryptographic Protocol Design](https://camenisch.org/jan/presentations/2018-09-11-Modular-Protocol-Design-ISC-Surrey.pdf)\n",
    "\n",
    "* [Zero Knowledge Proofs: An illustrated primer, Part 2](https://blog.cryptographyengineering.com/2017/01/21/zero-knowledge-proofs-an-illustrated-primer-part-2/)"
   ]
  },
  {
   "cell_type": "markdown",
   "metadata": {
    "deletable": true,
    "editable": true
   },
   "source": [
    "# Schnorr’s Identification Scheme\n",
    "\n",
    "CL Signatures require proofs of knowledge of some relationship between discrete logarithm. The first that is discussed is Schnorr's Identification scheme.\n",
    "\n",
    "Schnorr's Identification scheme is a proof of knowledge of some discrete logarithm of `y = g^x`. `x` is the secret known the prover, and `y` is known to both parties. This scheme allows the prover to demonstrate knowledge of `x` without leaking any information about `x`."
   ]
  },
  {
   "cell_type": "code",
   "execution_count": 31,
   "metadata": {
    "collapsed": false,
    "deletable": true,
    "editable": true
   },
   "outputs": [],
   "source": [
    "p = 2*251 + 1 # safe prime p\n",
    "Zp = Zmod(p)\n",
    "g = Zp.multiplicative_generator()\n",
    "q = g.multiplicative_order()\n",
    "Zq = Zmod(q)\n",
    "k = 10\n",
    "\n",
    "class SchnorrProver(object):\n",
    "    \n",
    "    def __init__(self):\n",
    "        self.secret_key = Zq.random_element()\n",
    "        self.public_key = g^self.secret_key\n",
    "    \n",
    "    def commit(self):\n",
    "        self.r = Zq.random_element()\n",
    "        return g^self.r\n",
    "    \n",
    "    def respond(self, challenge):\n",
    "        return self.r - challenge*self.secret_key\n",
    "\n",
    "class SchnorrVerifier(object):\n",
    "    \n",
    "    def __init__(self, prover_public_key):\n",
    "        self.prover_public_key = prover_public_key\n",
    "    \n",
    "    def challenge(self, commitment):\n",
    "        self.commitment = commitment\n",
    "        self.challenge_number = randint(1, 2^k)\n",
    "        return self.challenge_number\n",
    "    \n",
    "    def check(self, response):\n",
    "        check_value = g^response*self.prover_public_key^self.challenge_number\n",
    "        return self.commitment == check_value\n",
    "\n",
    "def run_protocol(iterations=32):\n",
    "    for _ in xrange(iterations):\n",
    "        prover = SchnorrProver()\n",
    "        verifier = SchnorrVerifier(prover.public_key)\n",
    "        t = prover.commit()\n",
    "        c = verifier.challenge(t)\n",
    "        s = prover.respond(c)\n",
    "        assert(verifier.check(s))\n",
    "    \n",
    "run_protocol()"
   ]
  },
  {
   "cell_type": "markdown",
   "metadata": {
    "deletable": true,
    "editable": true
   },
   "source": [
    "#  Proving Knowledge of a Representation\n",
    "\n",
    "An extension of the Schnoor Identification protocol involves proving knowledge of multiple discrete logs of many bases in a group. So, instead of proving knowledge of just `x` s.t. `y = g^x`, we'd prove knowledge of `x1, x2, ..., xl` s.t. `y = g1^x1 * g2^x2 * ... * gl^xl`.\n",
    "\n",
    "This generalization and the simpler identification protocol are almost identitical."
   ]
  },
  {
   "cell_type": "code",
   "execution_count": 32,
   "metadata": {
    "collapsed": false,
    "deletable": true,
    "editable": true
   },
   "outputs": [],
   "source": [
    "p = 2*251 + 1 # safe prime p\n",
    "Zp = Zmod(p)\n",
    "g = Zp.multiplicative_generator()\n",
    "q = g.multiplicative_order()\n",
    "Zq = Zmod(q)\n",
    "k = 10\n",
    "l = 8\n",
    "\n",
    "# construct `l` bases in the subgroup of order q\n",
    "gs = []\n",
    "while len(gs) != l:\n",
    "    x = randint(1, q)\n",
    "    if gcd(x, p-1) == 1:\n",
    "        gx = g^x\n",
    "        assert(gx.multiplicative_order() == q)\n",
    "        gs.append(g^x)\n",
    "        \n",
    "class GeneralSchnorrProver(object):\n",
    "    \n",
    "    def __init__(self):\n",
    "        self.secret_keys = [Zq.random_element() for _ in range(l)]\n",
    "        public_key = Zp(1)\n",
    "        for (g, s) in zip(gs, self.secret_keys):\n",
    "            public_key *= g^s\n",
    "        self.public_key = public_key\n",
    "    \n",
    "    def commit(self):\n",
    "        self.rs = [Zq.random_element() for _ in range(l)]\n",
    "        t = Zp(1)\n",
    "        for (g, r) in zip(gs, self.rs):\n",
    "            t *= g^r\n",
    "        return t\n",
    "    \n",
    "    def respond(self, challenge):\n",
    "        return [r - challenge*s \n",
    "                for (r, s) in zip(self.rs, self.secret_keys)]\n",
    "\n",
    "class GeneralSchnorrVerifier(object):\n",
    "    \n",
    "    def __init__(self, prover_public_key):\n",
    "        self.prover_public_key = prover_public_key\n",
    "    \n",
    "    def challenge(self, commitment):\n",
    "        self.commitment = commitment\n",
    "        self.challenge_number = randint(1, 2^k)\n",
    "        return self.challenge_number\n",
    "    \n",
    "    def check(self, response):\n",
    "        check_value = self.prover_public_key^self.challenge_number\n",
    "        for (g, r) in zip(gs, response):\n",
    "            check_value *= g^r\n",
    "        return self.commitment == check_value\n",
    "\n",
    "def run_protocol(iterations=32):\n",
    "    for _ in xrange(iterations):\n",
    "        prover = GeneralSchnorrProver()\n",
    "        verifier = GeneralSchnorrVerifier(prover.public_key)\n",
    "        t = prover.commit()\n",
    "        c = verifier.challenge(t)\n",
    "        s = prover.respond(c)\n",
    "        assert(verifier.check(s))\n",
    "\n",
    "run_protocol()"
   ]
  },
  {
   "cell_type": "markdown",
   "metadata": {
    "deletable": true,
    "editable": true
   },
   "source": [
    "# Combining Different Proof Protocols\n",
    "\n",
    "A further generalization of identification protocols involves running multiple proof protocols in parrallel. Imagine you were proving knowledge of two secrets `s1` and `s2` s.t. `x = g^s1` and `y = h^s2` where `g` and `h` are both members of the same group. To run these protocols in parallel, you can do what the paper describes:\n",
    "\n",
    "\n",
    "> First, the prover computes and sends to the verifier the commitment messages of both protocols at the same time. Next, the verifier chooses and sends back a single challenge message, i.e., the verifier chooses the same challenge message for both protocols. Finally, the verifier will accept the overall protocol only if the verification equations of both (sub-)protocols hold.\n",
    "\n",
    "\n",
    "In other words, you can use a single _verifier_ challenge across protocols in parallel and things don't seem to fall apart (IDK how general this claim is)."
   ]
  },
  {
   "cell_type": "markdown",
   "metadata": {},
   "source": [
    "# Aside: \"standard rewinding techniques\"\n",
    "\n",
    "In \"Direct Anonymous Attestation Explained\" the author mentions a proof technique referred to as \"standard rewinding techniques\":\n",
    "\n",
    "> Let us explain why the verifier should be convinced that $log_{h}(z)$ equals the first element in the representation of $y$ w.r.t. $g$ and $h$. Using standard rewinding techniques, one can obtain from a successful prover commitment and response messages for different challenge messages but the same commitment messages...\n",
    "\n",
    "This technique is demonstrated in \"Zero Knowledge Proofs: An illustrated primer, Part 2\" as a method for proving the soundness properties of a zero-knowledge proof system.\n",
    "\n",
    "Recall that a ZKP is considered sound if \"The Prover can only convince the Verifier if the statement is true\". Or put another way: \"If [the Prover] successfully convinces [the Verifier], then [the Prover] must know the [secrets]\".\n",
    "\n",
    "The technique used for formally proving soundness is to prove that there exists an algorithm for the verifier to extract the prover's secret if the prover demonstrates their proof. The blog post calls this algorithm the \"Extractor\". This algorithm under \"normal\" circumstances shouldn't be possible (otherwise the protocol would just be trivially broken!). However, the proof used in this blog post relies on the \"Extractor\" being able to stop a ZKP protocol run mid-protocol and \"rewind\" the prover's state. The extractor defined in the \"Illustrated Primer, Part 2\" blog post for Schnorr's Identification scheme is very similar to the proofs used in \"Direct Anonymous Attestation Explained\"!"
   ]
  },
  {
   "cell_type": "code",
   "execution_count": null,
   "metadata": {
    "collapsed": true
   },
   "outputs": [],
   "source": []
  }
 ],
 "metadata": {
  "kernelspec": {
   "display_name": "SageMath 8.1",
   "language": "",
   "name": "sagemath"
  },
  "language_info": {
   "codemirror_mode": {
    "name": "ipython",
    "version": 2
   },
   "file_extension": ".py",
   "mimetype": "text/x-python",
   "name": "python",
   "nbconvert_exporter": "python",
   "pygments_lexer": "ipython2",
   "version": "2.7.14"
  }
 },
 "nbformat": 4,
 "nbformat_minor": 2
}
